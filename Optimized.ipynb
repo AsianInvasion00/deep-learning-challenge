{
 "cells": [
  {
   "cell_type": "markdown",
   "metadata": {
    "id": "wfAjmk9I6XA0"
   },
   "source": [
    "## Preprocessing"
   ]
  },
  {
   "cell_type": "code",
   "execution_count": 1,
   "metadata": {
    "colab": {
     "base_uri": "https://localhost:8080/",
     "height": 452
    },
    "id": "hsNNWgm36XA1",
    "outputId": "cd009dd2-5ba3-4193-91bf-72706fe28b6c"
   },
   "outputs": [
    {
     "data": {
      "text/html": [
       "<div>\n",
       "<style scoped>\n",
       "    .dataframe tbody tr th:only-of-type {\n",
       "        vertical-align: middle;\n",
       "    }\n",
       "\n",
       "    .dataframe tbody tr th {\n",
       "        vertical-align: top;\n",
       "    }\n",
       "\n",
       "    .dataframe thead th {\n",
       "        text-align: right;\n",
       "    }\n",
       "</style>\n",
       "<table border=\"1\" class=\"dataframe\">\n",
       "  <thead>\n",
       "    <tr style=\"text-align: right;\">\n",
       "      <th></th>\n",
       "      <th>EIN</th>\n",
       "      <th>NAME</th>\n",
       "      <th>APPLICATION_TYPE</th>\n",
       "      <th>AFFILIATION</th>\n",
       "      <th>CLASSIFICATION</th>\n",
       "      <th>USE_CASE</th>\n",
       "      <th>ORGANIZATION</th>\n",
       "      <th>STATUS</th>\n",
       "      <th>INCOME_AMT</th>\n",
       "      <th>SPECIAL_CONSIDERATIONS</th>\n",
       "      <th>ASK_AMT</th>\n",
       "      <th>IS_SUCCESSFUL</th>\n",
       "    </tr>\n",
       "  </thead>\n",
       "  <tbody>\n",
       "    <tr>\n",
       "      <th>0</th>\n",
       "      <td>10520599</td>\n",
       "      <td>BLUE KNIGHTS MOTORCYCLE CLUB</td>\n",
       "      <td>T10</td>\n",
       "      <td>Independent</td>\n",
       "      <td>C1000</td>\n",
       "      <td>ProductDev</td>\n",
       "      <td>Association</td>\n",
       "      <td>1</td>\n",
       "      <td>0</td>\n",
       "      <td>N</td>\n",
       "      <td>5000</td>\n",
       "      <td>1</td>\n",
       "    </tr>\n",
       "    <tr>\n",
       "      <th>1</th>\n",
       "      <td>10531628</td>\n",
       "      <td>AMERICAN CHESAPEAKE CLUB CHARITABLE TR</td>\n",
       "      <td>T3</td>\n",
       "      <td>Independent</td>\n",
       "      <td>C2000</td>\n",
       "      <td>Preservation</td>\n",
       "      <td>Co-operative</td>\n",
       "      <td>1</td>\n",
       "      <td>1-9999</td>\n",
       "      <td>N</td>\n",
       "      <td>108590</td>\n",
       "      <td>1</td>\n",
       "    </tr>\n",
       "    <tr>\n",
       "      <th>2</th>\n",
       "      <td>10547893</td>\n",
       "      <td>ST CLOUD PROFESSIONAL FIREFIGHTERS</td>\n",
       "      <td>T5</td>\n",
       "      <td>CompanySponsored</td>\n",
       "      <td>C3000</td>\n",
       "      <td>ProductDev</td>\n",
       "      <td>Association</td>\n",
       "      <td>1</td>\n",
       "      <td>0</td>\n",
       "      <td>N</td>\n",
       "      <td>5000</td>\n",
       "      <td>0</td>\n",
       "    </tr>\n",
       "    <tr>\n",
       "      <th>3</th>\n",
       "      <td>10553066</td>\n",
       "      <td>SOUTHSIDE ATHLETIC ASSOCIATION</td>\n",
       "      <td>T3</td>\n",
       "      <td>CompanySponsored</td>\n",
       "      <td>C2000</td>\n",
       "      <td>Preservation</td>\n",
       "      <td>Trust</td>\n",
       "      <td>1</td>\n",
       "      <td>10000-24999</td>\n",
       "      <td>N</td>\n",
       "      <td>6692</td>\n",
       "      <td>1</td>\n",
       "    </tr>\n",
       "    <tr>\n",
       "      <th>4</th>\n",
       "      <td>10556103</td>\n",
       "      <td>GENETIC RESEARCH INSTITUTE OF THE DESERT</td>\n",
       "      <td>T3</td>\n",
       "      <td>Independent</td>\n",
       "      <td>C1000</td>\n",
       "      <td>Heathcare</td>\n",
       "      <td>Trust</td>\n",
       "      <td>1</td>\n",
       "      <td>100000-499999</td>\n",
       "      <td>N</td>\n",
       "      <td>142590</td>\n",
       "      <td>1</td>\n",
       "    </tr>\n",
       "  </tbody>\n",
       "</table>\n",
       "</div>"
      ],
      "text/plain": [
       "        EIN                                      NAME APPLICATION_TYPE  \\\n",
       "0  10520599              BLUE KNIGHTS MOTORCYCLE CLUB              T10   \n",
       "1  10531628    AMERICAN CHESAPEAKE CLUB CHARITABLE TR               T3   \n",
       "2  10547893        ST CLOUD PROFESSIONAL FIREFIGHTERS               T5   \n",
       "3  10553066            SOUTHSIDE ATHLETIC ASSOCIATION               T3   \n",
       "4  10556103  GENETIC RESEARCH INSTITUTE OF THE DESERT               T3   \n",
       "\n",
       "        AFFILIATION CLASSIFICATION      USE_CASE  ORGANIZATION  STATUS  \\\n",
       "0       Independent          C1000    ProductDev   Association       1   \n",
       "1       Independent          C2000  Preservation  Co-operative       1   \n",
       "2  CompanySponsored          C3000    ProductDev   Association       1   \n",
       "3  CompanySponsored          C2000  Preservation         Trust       1   \n",
       "4       Independent          C1000     Heathcare         Trust       1   \n",
       "\n",
       "      INCOME_AMT SPECIAL_CONSIDERATIONS  ASK_AMT  IS_SUCCESSFUL  \n",
       "0              0                      N     5000              1  \n",
       "1         1-9999                      N   108590              1  \n",
       "2              0                      N     5000              0  \n",
       "3    10000-24999                      N     6692              1  \n",
       "4  100000-499999                      N   142590              1  "
      ]
     },
     "execution_count": 1,
     "metadata": {},
     "output_type": "execute_result"
    }
   ],
   "source": [
    "# Import our dependencies\n",
    "from sklearn.model_selection import train_test_split\n",
    "from sklearn.preprocessing import StandardScaler\n",
    "import pandas as pd\n",
    "import tensorflow as tf\n",
    "\n",
    "#  Import and read the charity_data.csv.\n",
    "import pandas as pd\n",
    "application_df = pd.read_csv(\"https://static.bc-edx.com/data/dl-1-2/m21/lms/starter/charity_data.csv\")\n",
    "application_df.head()"
   ]
  },
  {
   "cell_type": "code",
   "execution_count": 2,
   "metadata": {
    "colab": {
     "base_uri": "https://localhost:8080/"
    },
    "id": "uAqXfRrD6XA2",
    "outputId": "252d6f01-e529-4482-89c8-1fae6801631a"
   },
   "outputs": [
    {
     "name": "stdout",
     "output_type": "stream",
     "text": [
      "  APPLICATION_TYPE       AFFILIATION CLASSIFICATION      USE_CASE  \\\n",
      "0              T10       Independent          C1000    ProductDev   \n",
      "1               T3       Independent          C2000  Preservation   \n",
      "2               T5  CompanySponsored          C3000    ProductDev   \n",
      "3               T3  CompanySponsored          C2000  Preservation   \n",
      "4               T3       Independent          C1000     Heathcare   \n",
      "\n",
      "   ORGANIZATION  STATUS     INCOME_AMT SPECIAL_CONSIDERATIONS  ASK_AMT  \\\n",
      "0   Association       1              0                      N     5000   \n",
      "1  Co-operative       1         1-9999                      N   108590   \n",
      "2   Association       1              0                      N     5000   \n",
      "3         Trust       1    10000-24999                      N     6692   \n",
      "4         Trust       1  100000-499999                      N   142590   \n",
      "\n",
      "   IS_SUCCESSFUL  \n",
      "0              1  \n",
      "1              1  \n",
      "2              0  \n",
      "3              1  \n",
      "4              1  \n"
     ]
    }
   ],
   "source": [
    "# Drop the non-beneficial ID columns, 'EIN' and 'NAME'.\n",
    "application_df.drop(['EIN', 'NAME'], axis=1, inplace=True)\n",
    "print(application_df.head())"
   ]
  },
  {
   "cell_type": "code",
   "execution_count": 3,
   "metadata": {
    "colab": {
     "base_uri": "https://localhost:8080/"
    },
    "id": "BTzfjcHy6XA2",
    "outputId": "793921d0-49f1-41e9-9f73-45f20001e243"
   },
   "outputs": [
    {
     "data": {
      "text/plain": [
       "APPLICATION_TYPE            17\n",
       "AFFILIATION                  6\n",
       "CLASSIFICATION              71\n",
       "USE_CASE                     5\n",
       "ORGANIZATION                 4\n",
       "STATUS                       2\n",
       "INCOME_AMT                   9\n",
       "SPECIAL_CONSIDERATIONS       2\n",
       "ASK_AMT                   8747\n",
       "IS_SUCCESSFUL                2\n",
       "dtype: int64"
      ]
     },
     "execution_count": 3,
     "metadata": {},
     "output_type": "execute_result"
    }
   ],
   "source": [
    "# Determine the number of unique values in each column.\n",
    "unique_value_counts = application_df.nunique()\n",
    "unique_value_counts"
   ]
  },
  {
   "cell_type": "code",
   "execution_count": 4,
   "metadata": {
    "colab": {
     "base_uri": "https://localhost:8080/"
    },
    "id": "_BwhCsAa6XA2",
    "outputId": "3f177a5a-1d7b-40e1-cc52-2ae1db93dd50"
   },
   "outputs": [
    {
     "data": {
      "text/plain": [
       "T3     27037\n",
       "T4      1542\n",
       "T6      1216\n",
       "T5      1173\n",
       "T19     1065\n",
       "T8       737\n",
       "T7       725\n",
       "T10      528\n",
       "T9       156\n",
       "T13       66\n",
       "T12       27\n",
       "T2        16\n",
       "T25        3\n",
       "T14        3\n",
       "T29        2\n",
       "T15        2\n",
       "T17        1\n",
       "Name: APPLICATION_TYPE, dtype: int64"
      ]
     },
     "execution_count": 4,
     "metadata": {},
     "output_type": "execute_result"
    }
   ],
   "source": [
    "# Look at APPLICATION_TYPE value counts for binning\n",
    "application_type_counts = application_df['APPLICATION_TYPE'].value_counts()\n",
    "application_type_counts"
   ]
  },
  {
   "cell_type": "code",
   "execution_count": 5,
   "metadata": {
    "colab": {
     "base_uri": "https://localhost:8080/"
    },
    "id": "-JVP0vx_6XA3",
    "outputId": "49bda915-fe7e-4abb-a8dd-f27433afb684"
   },
   "outputs": [
    {
     "data": {
      "text/plain": [
       "T3       27037\n",
       "T4        1542\n",
       "T6        1216\n",
       "T5        1173\n",
       "T19       1065\n",
       "T8         737\n",
       "T7         725\n",
       "T10        528\n",
       "Other      276\n",
       "Name: APPLICATION_TYPE, dtype: int64"
      ]
     },
     "execution_count": 5,
     "metadata": {},
     "output_type": "execute_result"
    }
   ],
   "source": [
    "# Choose a cutoff value and create a list of application types to be replaced\n",
    "# use the variable name `application_types_to_replace`\n",
    "cutoff_value = 300\n",
    "rare_application_types = application_type_counts[application_type_counts < cutoff_value].index.tolist()\n",
    "application_types_to_replace = rare_application_types\n",
    "\n",
    "# Replace in dataframe\n",
    "for app in application_types_to_replace:\n",
    "    application_df['APPLICATION_TYPE'] = application_df['APPLICATION_TYPE'].replace(app,\"Other\")\n",
    "\n",
    "# Check to make sure binning was successful\n",
    "application_df['APPLICATION_TYPE'].value_counts()"
   ]
  },
  {
   "cell_type": "code",
   "execution_count": 6,
   "metadata": {
    "colab": {
     "base_uri": "https://localhost:8080/"
    },
    "id": "Ifpanq2k6XA3",
    "outputId": "22c35f90-8a29-49bc-8cbf-e43f142eacab"
   },
   "outputs": [
    {
     "data": {
      "text/plain": [
       "C1000    17326\n",
       "C2000     6074\n",
       "C1200     4837\n",
       "C3000     1918\n",
       "C2100     1883\n",
       "         ...  \n",
       "C4120        1\n",
       "C8210        1\n",
       "C2561        1\n",
       "C4500        1\n",
       "C2150        1\n",
       "Name: CLASSIFICATION, Length: 71, dtype: int64"
      ]
     },
     "execution_count": 6,
     "metadata": {},
     "output_type": "execute_result"
    }
   ],
   "source": [
    "# Look at CLASSIFICATION value counts for binning\n",
    "classification_counts = application_df['CLASSIFICATION'].value_counts()\n",
    "classification_counts"
   ]
  },
  {
   "cell_type": "code",
   "execution_count": 7,
   "metadata": {
    "colab": {
     "base_uri": "https://localhost:8080/"
    },
    "id": "7yxd7gg76XA3",
    "outputId": "c0d8c4b9-4d10-4188-b959-332c0915c0c9"
   },
   "outputs": [
    {
     "data": {
      "text/plain": [
       "C1000    17326\n",
       "C2000     6074\n",
       "C1200     4837\n",
       "C3000     1918\n",
       "C2100     1883\n",
       "C7000      777\n",
       "C1700      287\n",
       "C4000      194\n",
       "C5000      116\n",
       "C1270      114\n",
       "C2700      104\n",
       "C2800       95\n",
       "C7100       75\n",
       "C1300       58\n",
       "C1280       50\n",
       "C1230       36\n",
       "C1400       34\n",
       "C7200       32\n",
       "C2300       32\n",
       "C1240       30\n",
       "C8000       20\n",
       "C7120       18\n",
       "C1500       16\n",
       "C1800       15\n",
       "C6000       15\n",
       "C1250       14\n",
       "C8200       11\n",
       "C1238       10\n",
       "C1278       10\n",
       "C1235        9\n",
       "C1237        9\n",
       "C7210        7\n",
       "C2400        6\n",
       "C1720        6\n",
       "C4100        6\n",
       "C1257        5\n",
       "C1600        5\n",
       "C1260        3\n",
       "C2710        3\n",
       "C0           3\n",
       "C3200        2\n",
       "C1234        2\n",
       "C1246        2\n",
       "C1267        2\n",
       "C1256        2\n",
       "Name: CLASSIFICATION, dtype: int64"
      ]
     },
     "execution_count": 7,
     "metadata": {},
     "output_type": "execute_result"
    }
   ],
   "source": [
    "# You may find it helpful to look at CLASSIFICATION value counts >1\n",
    "classification_counts_filtered = classification_counts[classification_counts > 1]\n",
    "classification_counts_filtered"
   ]
  },
  {
   "cell_type": "code",
   "execution_count": 8,
   "metadata": {
    "colab": {
     "base_uri": "https://localhost:8080/"
    },
    "id": "UnjZy0Nc6XA3",
    "outputId": "8b302e79-b429-4dee-f365-58fcd518e50a"
   },
   "outputs": [
    {
     "data": {
      "text/plain": [
       "C1000    17326\n",
       "C2000     6074\n",
       "C1200     4837\n",
       "C3000     1918\n",
       "C2100     1883\n",
       "Other     1484\n",
       "C7000      777\n",
       "Name: CLASSIFICATION, dtype: int64"
      ]
     },
     "execution_count": 8,
     "metadata": {},
     "output_type": "execute_result"
    }
   ],
   "source": [
    "# Choose a cutoff value and create a list of classifications to be replaced\n",
    "# use the variable name `classifications_to_replace`\n",
    "cutoff_value = 500\n",
    "rare_classification_types = classification_counts[classification_counts < cutoff_value].index.tolist()\n",
    "classifications_to_replace = rare_classification_types\n",
    "\n",
    "# Replace in dataframe\n",
    "for cls in classifications_to_replace:\n",
    "    application_df['CLASSIFICATION'] = application_df['CLASSIFICATION'].replace(cls,\"Other\")\n",
    "\n",
    "# Check to make sure binning was successful\n",
    "application_df['CLASSIFICATION'].value_counts()"
   ]
  },
  {
   "cell_type": "code",
   "execution_count": 9,
   "metadata": {
    "colab": {
     "base_uri": "https://localhost:8080/",
     "height": 273
    },
    "id": "ZGqnmyGQ6XA3",
    "outputId": "60d1b9b7-ad6f-42a0-ab6d-b10025f72f04"
   },
   "outputs": [
    {
     "data": {
      "text/html": [
       "<div>\n",
       "<style scoped>\n",
       "    .dataframe tbody tr th:only-of-type {\n",
       "        vertical-align: middle;\n",
       "    }\n",
       "\n",
       "    .dataframe tbody tr th {\n",
       "        vertical-align: top;\n",
       "    }\n",
       "\n",
       "    .dataframe thead th {\n",
       "        text-align: right;\n",
       "    }\n",
       "</style>\n",
       "<table border=\"1\" class=\"dataframe\">\n",
       "  <thead>\n",
       "    <tr style=\"text-align: right;\">\n",
       "      <th></th>\n",
       "      <th>STATUS</th>\n",
       "      <th>ASK_AMT</th>\n",
       "      <th>IS_SUCCESSFUL</th>\n",
       "      <th>APPLICATION_TYPE_Other</th>\n",
       "      <th>APPLICATION_TYPE_T10</th>\n",
       "      <th>APPLICATION_TYPE_T19</th>\n",
       "      <th>APPLICATION_TYPE_T3</th>\n",
       "      <th>APPLICATION_TYPE_T4</th>\n",
       "      <th>APPLICATION_TYPE_T5</th>\n",
       "      <th>APPLICATION_TYPE_T6</th>\n",
       "      <th>...</th>\n",
       "      <th>INCOME_AMT_1-9999</th>\n",
       "      <th>INCOME_AMT_10000-24999</th>\n",
       "      <th>INCOME_AMT_100000-499999</th>\n",
       "      <th>INCOME_AMT_10M-50M</th>\n",
       "      <th>INCOME_AMT_1M-5M</th>\n",
       "      <th>INCOME_AMT_25000-99999</th>\n",
       "      <th>INCOME_AMT_50M+</th>\n",
       "      <th>INCOME_AMT_5M-10M</th>\n",
       "      <th>SPECIAL_CONSIDERATIONS_N</th>\n",
       "      <th>SPECIAL_CONSIDERATIONS_Y</th>\n",
       "    </tr>\n",
       "  </thead>\n",
       "  <tbody>\n",
       "    <tr>\n",
       "      <th>0</th>\n",
       "      <td>1</td>\n",
       "      <td>5000</td>\n",
       "      <td>1</td>\n",
       "      <td>0</td>\n",
       "      <td>1</td>\n",
       "      <td>0</td>\n",
       "      <td>0</td>\n",
       "      <td>0</td>\n",
       "      <td>0</td>\n",
       "      <td>0</td>\n",
       "      <td>...</td>\n",
       "      <td>0</td>\n",
       "      <td>0</td>\n",
       "      <td>0</td>\n",
       "      <td>0</td>\n",
       "      <td>0</td>\n",
       "      <td>0</td>\n",
       "      <td>0</td>\n",
       "      <td>0</td>\n",
       "      <td>1</td>\n",
       "      <td>0</td>\n",
       "    </tr>\n",
       "    <tr>\n",
       "      <th>1</th>\n",
       "      <td>1</td>\n",
       "      <td>108590</td>\n",
       "      <td>1</td>\n",
       "      <td>0</td>\n",
       "      <td>0</td>\n",
       "      <td>0</td>\n",
       "      <td>1</td>\n",
       "      <td>0</td>\n",
       "      <td>0</td>\n",
       "      <td>0</td>\n",
       "      <td>...</td>\n",
       "      <td>1</td>\n",
       "      <td>0</td>\n",
       "      <td>0</td>\n",
       "      <td>0</td>\n",
       "      <td>0</td>\n",
       "      <td>0</td>\n",
       "      <td>0</td>\n",
       "      <td>0</td>\n",
       "      <td>1</td>\n",
       "      <td>0</td>\n",
       "    </tr>\n",
       "    <tr>\n",
       "      <th>2</th>\n",
       "      <td>1</td>\n",
       "      <td>5000</td>\n",
       "      <td>0</td>\n",
       "      <td>0</td>\n",
       "      <td>0</td>\n",
       "      <td>0</td>\n",
       "      <td>0</td>\n",
       "      <td>0</td>\n",
       "      <td>1</td>\n",
       "      <td>0</td>\n",
       "      <td>...</td>\n",
       "      <td>0</td>\n",
       "      <td>0</td>\n",
       "      <td>0</td>\n",
       "      <td>0</td>\n",
       "      <td>0</td>\n",
       "      <td>0</td>\n",
       "      <td>0</td>\n",
       "      <td>0</td>\n",
       "      <td>1</td>\n",
       "      <td>0</td>\n",
       "    </tr>\n",
       "    <tr>\n",
       "      <th>3</th>\n",
       "      <td>1</td>\n",
       "      <td>6692</td>\n",
       "      <td>1</td>\n",
       "      <td>0</td>\n",
       "      <td>0</td>\n",
       "      <td>0</td>\n",
       "      <td>1</td>\n",
       "      <td>0</td>\n",
       "      <td>0</td>\n",
       "      <td>0</td>\n",
       "      <td>...</td>\n",
       "      <td>0</td>\n",
       "      <td>1</td>\n",
       "      <td>0</td>\n",
       "      <td>0</td>\n",
       "      <td>0</td>\n",
       "      <td>0</td>\n",
       "      <td>0</td>\n",
       "      <td>0</td>\n",
       "      <td>1</td>\n",
       "      <td>0</td>\n",
       "    </tr>\n",
       "    <tr>\n",
       "      <th>4</th>\n",
       "      <td>1</td>\n",
       "      <td>142590</td>\n",
       "      <td>1</td>\n",
       "      <td>0</td>\n",
       "      <td>0</td>\n",
       "      <td>0</td>\n",
       "      <td>1</td>\n",
       "      <td>0</td>\n",
       "      <td>0</td>\n",
       "      <td>0</td>\n",
       "      <td>...</td>\n",
       "      <td>0</td>\n",
       "      <td>0</td>\n",
       "      <td>1</td>\n",
       "      <td>0</td>\n",
       "      <td>0</td>\n",
       "      <td>0</td>\n",
       "      <td>0</td>\n",
       "      <td>0</td>\n",
       "      <td>1</td>\n",
       "      <td>0</td>\n",
       "    </tr>\n",
       "  </tbody>\n",
       "</table>\n",
       "<p>5 rows × 45 columns</p>\n",
       "</div>"
      ],
      "text/plain": [
       "   STATUS  ASK_AMT  IS_SUCCESSFUL  APPLICATION_TYPE_Other  \\\n",
       "0       1     5000              1                       0   \n",
       "1       1   108590              1                       0   \n",
       "2       1     5000              0                       0   \n",
       "3       1     6692              1                       0   \n",
       "4       1   142590              1                       0   \n",
       "\n",
       "   APPLICATION_TYPE_T10  APPLICATION_TYPE_T19  APPLICATION_TYPE_T3  \\\n",
       "0                     1                     0                    0   \n",
       "1                     0                     0                    1   \n",
       "2                     0                     0                    0   \n",
       "3                     0                     0                    1   \n",
       "4                     0                     0                    1   \n",
       "\n",
       "   APPLICATION_TYPE_T4  APPLICATION_TYPE_T5  APPLICATION_TYPE_T6  ...  \\\n",
       "0                    0                    0                    0  ...   \n",
       "1                    0                    0                    0  ...   \n",
       "2                    0                    1                    0  ...   \n",
       "3                    0                    0                    0  ...   \n",
       "4                    0                    0                    0  ...   \n",
       "\n",
       "   INCOME_AMT_1-9999  INCOME_AMT_10000-24999  INCOME_AMT_100000-499999  \\\n",
       "0                  0                       0                         0   \n",
       "1                  1                       0                         0   \n",
       "2                  0                       0                         0   \n",
       "3                  0                       1                         0   \n",
       "4                  0                       0                         1   \n",
       "\n",
       "   INCOME_AMT_10M-50M  INCOME_AMT_1M-5M  INCOME_AMT_25000-99999  \\\n",
       "0                   0                 0                       0   \n",
       "1                   0                 0                       0   \n",
       "2                   0                 0                       0   \n",
       "3                   0                 0                       0   \n",
       "4                   0                 0                       0   \n",
       "\n",
       "   INCOME_AMT_50M+  INCOME_AMT_5M-10M  SPECIAL_CONSIDERATIONS_N  \\\n",
       "0                0                  0                         1   \n",
       "1                0                  0                         1   \n",
       "2                0                  0                         1   \n",
       "3                0                  0                         1   \n",
       "4                0                  0                         1   \n",
       "\n",
       "   SPECIAL_CONSIDERATIONS_Y  \n",
       "0                         0  \n",
       "1                         0  \n",
       "2                         0  \n",
       "3                         0  \n",
       "4                         0  \n",
       "\n",
       "[5 rows x 45 columns]"
      ]
     },
     "execution_count": 9,
     "metadata": {},
     "output_type": "execute_result"
    }
   ],
   "source": [
    "# Convert categorical data to numeric with `pd.get_dummies`\n",
    "categorical_columns = ['APPLICATION_TYPE', 'CLASSIFICATION', 'AFFILIATION', 'USE_CASE', 'ORGANIZATION', 'INCOME_AMT', 'SPECIAL_CONSIDERATIONS']\n",
    "application_df_encoded = pd.get_dummies(application_df, columns=categorical_columns)\n",
    "application_df_encoded.head()"
   ]
  },
  {
   "cell_type": "code",
   "execution_count": 10,
   "metadata": {
    "id": "fc3nthok6XA4"
   },
   "outputs": [],
   "source": [
    "# Split our preprocessed data into our features and target arrays\n",
    "X = application_df_encoded.drop('IS_SUCCESSFUL', axis=1)\n",
    "y = application_df_encoded['IS_SUCCESSFUL']\n",
    "\n",
    "# Split the preprocessed data into a training and testing dataset\n",
    "X_train, X_test, y_train, y_test = train_test_split(X, y, random_state=42)"
   ]
  },
  {
   "cell_type": "code",
   "execution_count": 11,
   "metadata": {
    "id": "hmCgplaF6XA4"
   },
   "outputs": [],
   "source": [
    "# Create a StandardScaler instances\n",
    "scaler = StandardScaler()\n",
    "\n",
    "# Fit the StandardScaler\n",
    "X_scaler = scaler.fit(X_train)\n",
    "# Scale the data\n",
    "X_train_scaled = X_scaler.transform(X_train)\n",
    "X_test_scaled = X_scaler.transform(X_test)"
   ]
  },
  {
   "cell_type": "markdown",
   "metadata": {
    "id": "pc1nA-9B6XA4"
   },
   "source": [
    "## Compile, Train and Evaluate the Model"
   ]
  },
  {
   "cell_type": "code",
   "execution_count": 12,
   "metadata": {
    "colab": {
     "base_uri": "https://localhost:8080/"
    },
    "id": "PFIMi6LM6XA4",
    "outputId": "a0a9d7ae-2117-4b4b-8f2c-22e88e21ee8c"
   },
   "outputs": [
    {
     "name": "stdout",
     "output_type": "stream",
     "text": [
      "Model: \"sequential\"\n",
      "_________________________________________________________________\n",
      " Layer (type)                Output Shape              Param #   \n",
      "=================================================================\n",
      " dense (Dense)               (None, 256)               11520     \n",
      "                                                                 \n",
      " dropout (Dropout)           (None, 256)               0         \n",
      "                                                                 \n",
      " dense_1 (Dense)             (None, 128)               32896     \n",
      "                                                                 \n",
      " dropout_1 (Dropout)         (None, 128)               0         \n",
      "                                                                 \n",
      " dense_2 (Dense)             (None, 64)                8256      \n",
      "                                                                 \n",
      " dropout_2 (Dropout)         (None, 64)                0         \n",
      "                                                                 \n",
      " dense_3 (Dense)             (None, 1)                 65        \n",
      "                                                                 \n",
      "=================================================================\n",
      "Total params: 52737 (206.00 KB)\n",
      "Trainable params: 52737 (206.00 KB)\n",
      "Non-trainable params: 0 (0.00 Byte)\n",
      "_________________________________________________________________\n"
     ]
    }
   ],
   "source": [
    "# Define the model - deep neural net, i.e., the number of input features and hidden nodes for each layer.\n",
    "input_features = X_train.shape[1]\n",
    "nn_optimized = tf.keras.models.Sequential()\n",
    "# First hidden layer with dropout\n",
    "nn_optimized.add(tf.keras.layers.Dense(units=256, activation='relu'))\n",
    "nn_optimized.add(tf.keras.layers.Dropout(0.3))\n",
    "# Second hidden layer with dropout\n",
    "nn_optimized.add(tf.keras.layers.Dense(units=128, activation='relu'))\n",
    "nn_optimized.add(tf.keras.layers.Dropout(0.3))\n",
    "# Third hidden layer with dropout\n",
    "nn_optimized.add(tf.keras.layers.Dense(units=64, activation='relu'))\n",
    "nn_optimized.add(tf.keras.layers.Dropout(0.3))\n",
    "\n",
    "# Output layer\n",
    "nn_optimized.add(tf.keras.layers.Dense(units=1, activation='sigmoid'))\n",
    "\n",
    "# Build the model\n",
    "nn_optimized.build(input_shape=(None, input_features))\n",
    "\n",
    "# Check the structure of the model\n",
    "nn_optimized.summary()"
   ]
  },
  {
   "cell_type": "code",
   "execution_count": 13,
   "metadata": {
    "id": "1XTEqzj-6XA4"
   },
   "outputs": [],
   "source": [
    "# Compile the model with a lower learning rate\n",
    "optimizer = tf.keras.optimizers.Adam(learning_rate=0.001)\n",
    "nn_optimized.compile(loss=\"binary_crossentropy\", optimizer=optimizer, metrics=[\"accuracy\"])"
   ]
  },
  {
   "cell_type": "code",
   "execution_count": 14,
   "metadata": {
    "colab": {
     "base_uri": "https://localhost:8080/"
    },
    "id": "hah30GIc6XA4",
    "outputId": "75de763e-5deb-47d5-8858-b8275209db69"
   },
   "outputs": [
    {
     "name": "stdout",
     "output_type": "stream",
     "text": [
      "Epoch 1/150\n",
      "101/101 [==============================] - 1s 5ms/step - loss: 0.6062 - accuracy: 0.6976 - val_loss: 0.5617 - val_accuracy: 0.7241\n",
      "Epoch 2/150\n",
      "101/101 [==============================] - 0s 4ms/step - loss: 0.5713 - accuracy: 0.7235 - val_loss: 0.5578 - val_accuracy: 0.7273\n",
      "Epoch 3/150\n",
      "101/101 [==============================] - 0s 4ms/step - loss: 0.5673 - accuracy: 0.7257 - val_loss: 0.5565 - val_accuracy: 0.7269\n",
      "Epoch 4/150\n",
      "101/101 [==============================] - 0s 4ms/step - loss: 0.5615 - accuracy: 0.7272 - val_loss: 0.5587 - val_accuracy: 0.7242\n",
      "Epoch 5/150\n",
      "101/101 [==============================] - 0s 4ms/step - loss: 0.5603 - accuracy: 0.7277 - val_loss: 0.5559 - val_accuracy: 0.7292\n",
      "Epoch 6/150\n",
      "101/101 [==============================] - 0s 4ms/step - loss: 0.5602 - accuracy: 0.7264 - val_loss: 0.5553 - val_accuracy: 0.7297\n",
      "Epoch 7/150\n",
      "101/101 [==============================] - 0s 4ms/step - loss: 0.5578 - accuracy: 0.7285 - val_loss: 0.5527 - val_accuracy: 0.7299\n",
      "Epoch 8/150\n",
      "101/101 [==============================] - 0s 4ms/step - loss: 0.5577 - accuracy: 0.7278 - val_loss: 0.5535 - val_accuracy: 0.7311\n",
      "Epoch 9/150\n",
      "101/101 [==============================] - 0s 4ms/step - loss: 0.5552 - accuracy: 0.7294 - val_loss: 0.5528 - val_accuracy: 0.7326\n",
      "Epoch 10/150\n",
      "101/101 [==============================] - 0s 4ms/step - loss: 0.5542 - accuracy: 0.7298 - val_loss: 0.5509 - val_accuracy: 0.7300\n",
      "Epoch 11/150\n",
      "101/101 [==============================] - 0s 4ms/step - loss: 0.5548 - accuracy: 0.7315 - val_loss: 0.5519 - val_accuracy: 0.7318\n",
      "Epoch 12/150\n",
      "101/101 [==============================] - 0s 4ms/step - loss: 0.5533 - accuracy: 0.7298 - val_loss: 0.5498 - val_accuracy: 0.7327\n",
      "Epoch 13/150\n",
      "101/101 [==============================] - 0s 4ms/step - loss: 0.5519 - accuracy: 0.7299 - val_loss: 0.5507 - val_accuracy: 0.7320\n",
      "Epoch 14/150\n",
      "101/101 [==============================] - 0s 3ms/step - loss: 0.5524 - accuracy: 0.7306 - val_loss: 0.5504 - val_accuracy: 0.7313\n",
      "Epoch 15/150\n",
      "101/101 [==============================] - 0s 4ms/step - loss: 0.5526 - accuracy: 0.7327 - val_loss: 0.5503 - val_accuracy: 0.7339\n",
      "Epoch 16/150\n",
      "101/101 [==============================] - 0s 5ms/step - loss: 0.5520 - accuracy: 0.7305 - val_loss: 0.5524 - val_accuracy: 0.7301\n",
      "Epoch 17/150\n",
      "101/101 [==============================] - 0s 4ms/step - loss: 0.5517 - accuracy: 0.7311 - val_loss: 0.5502 - val_accuracy: 0.7326\n",
      "Epoch 18/150\n",
      "101/101 [==============================] - 0s 4ms/step - loss: 0.5513 - accuracy: 0.7336 - val_loss: 0.5499 - val_accuracy: 0.7304\n",
      "Epoch 19/150\n",
      "101/101 [==============================] - 0s 4ms/step - loss: 0.5513 - accuracy: 0.7317 - val_loss: 0.5503 - val_accuracy: 0.7303\n",
      "Epoch 20/150\n",
      "101/101 [==============================] - 0s 4ms/step - loss: 0.5500 - accuracy: 0.7300 - val_loss: 0.5513 - val_accuracy: 0.7320\n",
      "Epoch 21/150\n",
      "101/101 [==============================] - 0s 4ms/step - loss: 0.5507 - accuracy: 0.7311 - val_loss: 0.5515 - val_accuracy: 0.7321\n",
      "Epoch 22/150\n",
      "101/101 [==============================] - 0s 3ms/step - loss: 0.5496 - accuracy: 0.7323 - val_loss: 0.5504 - val_accuracy: 0.7325\n",
      "Epoch 23/150\n",
      "101/101 [==============================] - 0s 4ms/step - loss: 0.5498 - accuracy: 0.7317 - val_loss: 0.5495 - val_accuracy: 0.7332\n",
      "Epoch 24/150\n",
      "101/101 [==============================] - 0s 4ms/step - loss: 0.5505 - accuracy: 0.7310 - val_loss: 0.5516 - val_accuracy: 0.7336\n",
      "Epoch 25/150\n",
      "101/101 [==============================] - 0s 4ms/step - loss: 0.5485 - accuracy: 0.7323 - val_loss: 0.5505 - val_accuracy: 0.7339\n",
      "Epoch 26/150\n",
      "101/101 [==============================] - 0s 4ms/step - loss: 0.5490 - accuracy: 0.7327 - val_loss: 0.5491 - val_accuracy: 0.7317\n",
      "Epoch 27/150\n",
      "101/101 [==============================] - 0s 4ms/step - loss: 0.5480 - accuracy: 0.7329 - val_loss: 0.5498 - val_accuracy: 0.7298\n",
      "Epoch 28/150\n",
      "101/101 [==============================] - 0s 4ms/step - loss: 0.5500 - accuracy: 0.7317 - val_loss: 0.5491 - val_accuracy: 0.7328\n",
      "Epoch 29/150\n",
      "101/101 [==============================] - 0s 4ms/step - loss: 0.5470 - accuracy: 0.7336 - val_loss: 0.5505 - val_accuracy: 0.7334\n",
      "Epoch 30/150\n",
      "101/101 [==============================] - 0s 4ms/step - loss: 0.5492 - accuracy: 0.7322 - val_loss: 0.5502 - val_accuracy: 0.7331\n",
      "Epoch 31/150\n",
      "101/101 [==============================] - 0s 4ms/step - loss: 0.5485 - accuracy: 0.7332 - val_loss: 0.5489 - val_accuracy: 0.7331\n",
      "Epoch 32/150\n",
      "101/101 [==============================] - 0s 4ms/step - loss: 0.5484 - accuracy: 0.7331 - val_loss: 0.5509 - val_accuracy: 0.7326\n",
      "Epoch 33/150\n",
      "101/101 [==============================] - 0s 4ms/step - loss: 0.5467 - accuracy: 0.7325 - val_loss: 0.5496 - val_accuracy: 0.7317\n",
      "Epoch 34/150\n",
      "101/101 [==============================] - 0s 3ms/step - loss: 0.5480 - accuracy: 0.7345 - val_loss: 0.5499 - val_accuracy: 0.7311\n",
      "Epoch 35/150\n",
      "101/101 [==============================] - 0s 4ms/step - loss: 0.5467 - accuracy: 0.7325 - val_loss: 0.5505 - val_accuracy: 0.7325\n",
      "Epoch 36/150\n",
      "101/101 [==============================] - 0s 3ms/step - loss: 0.5457 - accuracy: 0.7353 - val_loss: 0.5508 - val_accuracy: 0.7315\n",
      "Epoch 37/150\n",
      "101/101 [==============================] - 0s 3ms/step - loss: 0.5474 - accuracy: 0.7340 - val_loss: 0.5502 - val_accuracy: 0.7308\n",
      "Epoch 38/150\n",
      "101/101 [==============================] - 0s 4ms/step - loss: 0.5457 - accuracy: 0.7338 - val_loss: 0.5510 - val_accuracy: 0.7291\n",
      "Epoch 39/150\n",
      "101/101 [==============================] - 0s 4ms/step - loss: 0.5459 - accuracy: 0.7343 - val_loss: 0.5501 - val_accuracy: 0.7320\n",
      "Epoch 40/150\n",
      "101/101 [==============================] - 0s 4ms/step - loss: 0.5465 - accuracy: 0.7340 - val_loss: 0.5508 - val_accuracy: 0.7327\n",
      "Epoch 41/150\n",
      "101/101 [==============================] - 0s 3ms/step - loss: 0.5461 - accuracy: 0.7357 - val_loss: 0.5504 - val_accuracy: 0.7315\n",
      "Epoch 42/150\n",
      "101/101 [==============================] - 0s 3ms/step - loss: 0.5445 - accuracy: 0.7329 - val_loss: 0.5500 - val_accuracy: 0.7318\n",
      "Epoch 43/150\n",
      "101/101 [==============================] - 0s 3ms/step - loss: 0.5452 - accuracy: 0.7346 - val_loss: 0.5494 - val_accuracy: 0.7321\n",
      "Epoch 44/150\n",
      "101/101 [==============================] - 0s 3ms/step - loss: 0.5446 - accuracy: 0.7348 - val_loss: 0.5495 - val_accuracy: 0.7338\n",
      "Epoch 45/150\n",
      "101/101 [==============================] - 0s 3ms/step - loss: 0.5458 - accuracy: 0.7349 - val_loss: 0.5519 - val_accuracy: 0.7325\n",
      "Epoch 46/150\n",
      "101/101 [==============================] - 0s 3ms/step - loss: 0.5462 - accuracy: 0.7339 - val_loss: 0.5518 - val_accuracy: 0.7297\n",
      "Epoch 47/150\n",
      "101/101 [==============================] - 0s 3ms/step - loss: 0.5455 - accuracy: 0.7343 - val_loss: 0.5512 - val_accuracy: 0.7305\n",
      "Epoch 48/150\n",
      "101/101 [==============================] - 0s 3ms/step - loss: 0.5443 - accuracy: 0.7357 - val_loss: 0.5512 - val_accuracy: 0.7310\n",
      "Epoch 49/150\n",
      "101/101 [==============================] - 0s 3ms/step - loss: 0.5439 - accuracy: 0.7360 - val_loss: 0.5521 - val_accuracy: 0.7311\n",
      "Epoch 50/150\n",
      "101/101 [==============================] - 0s 4ms/step - loss: 0.5450 - accuracy: 0.7352 - val_loss: 0.5507 - val_accuracy: 0.7307\n",
      "Epoch 51/150\n",
      "101/101 [==============================] - 0s 3ms/step - loss: 0.5432 - accuracy: 0.7357 - val_loss: 0.5509 - val_accuracy: 0.7303\n",
      "Epoch 52/150\n",
      "101/101 [==============================] - 0s 3ms/step - loss: 0.5445 - accuracy: 0.7363 - val_loss: 0.5515 - val_accuracy: 0.7307\n",
      "Epoch 53/150\n",
      "101/101 [==============================] - 0s 4ms/step - loss: 0.5430 - accuracy: 0.7344 - val_loss: 0.5509 - val_accuracy: 0.7298\n",
      "Epoch 54/150\n",
      "101/101 [==============================] - 0s 3ms/step - loss: 0.5441 - accuracy: 0.7350 - val_loss: 0.5525 - val_accuracy: 0.7304\n",
      "Epoch 55/150\n",
      "101/101 [==============================] - 0s 3ms/step - loss: 0.5428 - accuracy: 0.7348 - val_loss: 0.5513 - val_accuracy: 0.7310\n",
      "Epoch 56/150\n",
      "101/101 [==============================] - 0s 3ms/step - loss: 0.5439 - accuracy: 0.7361 - val_loss: 0.5505 - val_accuracy: 0.7322\n",
      "Epoch 57/150\n",
      "101/101 [==============================] - 0s 3ms/step - loss: 0.5443 - accuracy: 0.7356 - val_loss: 0.5499 - val_accuracy: 0.7310\n"
     ]
    },
    {
     "name": "stdout",
     "output_type": "stream",
     "text": [
      "Epoch 58/150\n",
      "101/101 [==============================] - 0s 3ms/step - loss: 0.5435 - accuracy: 0.7362 - val_loss: 0.5511 - val_accuracy: 0.7325\n",
      "Epoch 59/150\n",
      "101/101 [==============================] - 0s 3ms/step - loss: 0.5427 - accuracy: 0.7357 - val_loss: 0.5507 - val_accuracy: 0.7303\n",
      "Epoch 60/150\n",
      "101/101 [==============================] - 0s 3ms/step - loss: 0.5438 - accuracy: 0.7352 - val_loss: 0.5523 - val_accuracy: 0.7315\n",
      "Epoch 61/150\n",
      "101/101 [==============================] - 0s 4ms/step - loss: 0.5434 - accuracy: 0.7365 - val_loss: 0.5514 - val_accuracy: 0.7299\n",
      "Epoch 62/150\n",
      "101/101 [==============================] - 0s 3ms/step - loss: 0.5434 - accuracy: 0.7340 - val_loss: 0.5519 - val_accuracy: 0.7284\n",
      "Epoch 63/150\n",
      "101/101 [==============================] - 0s 3ms/step - loss: 0.5433 - accuracy: 0.7348 - val_loss: 0.5517 - val_accuracy: 0.7306\n",
      "Epoch 64/150\n",
      "101/101 [==============================] - 0s 3ms/step - loss: 0.5434 - accuracy: 0.7365 - val_loss: 0.5521 - val_accuracy: 0.7298\n",
      "Epoch 65/150\n",
      "101/101 [==============================] - 0s 3ms/step - loss: 0.5433 - accuracy: 0.7349 - val_loss: 0.5514 - val_accuracy: 0.7312\n",
      "Epoch 66/150\n",
      "101/101 [==============================] - 0s 3ms/step - loss: 0.5437 - accuracy: 0.7355 - val_loss: 0.5528 - val_accuracy: 0.7293\n",
      "Epoch 67/150\n",
      "101/101 [==============================] - 0s 3ms/step - loss: 0.5436 - accuracy: 0.7346 - val_loss: 0.5519 - val_accuracy: 0.7301\n",
      "Epoch 68/150\n",
      "101/101 [==============================] - 0s 3ms/step - loss: 0.5422 - accuracy: 0.7371 - val_loss: 0.5525 - val_accuracy: 0.7303\n",
      "Epoch 69/150\n",
      "101/101 [==============================] - 0s 3ms/step - loss: 0.5422 - accuracy: 0.7361 - val_loss: 0.5527 - val_accuracy: 0.7301\n",
      "Epoch 70/150\n",
      "101/101 [==============================] - 0s 3ms/step - loss: 0.5427 - accuracy: 0.7368 - val_loss: 0.5525 - val_accuracy: 0.7289\n",
      "Epoch 71/150\n",
      "101/101 [==============================] - 0s 3ms/step - loss: 0.5429 - accuracy: 0.7361 - val_loss: 0.5516 - val_accuracy: 0.7301\n",
      "Epoch 72/150\n",
      "101/101 [==============================] - 0s 3ms/step - loss: 0.5423 - accuracy: 0.7353 - val_loss: 0.5532 - val_accuracy: 0.7306\n",
      "Epoch 73/150\n",
      "101/101 [==============================] - 0s 3ms/step - loss: 0.5424 - accuracy: 0.7366 - val_loss: 0.5526 - val_accuracy: 0.7280\n",
      "Epoch 74/150\n",
      "101/101 [==============================] - 0s 3ms/step - loss: 0.5431 - accuracy: 0.7355 - val_loss: 0.5525 - val_accuracy: 0.7304\n",
      "Epoch 75/150\n",
      "101/101 [==============================] - 0s 3ms/step - loss: 0.5422 - accuracy: 0.7349 - val_loss: 0.5527 - val_accuracy: 0.7315\n",
      "Epoch 76/150\n",
      "101/101 [==============================] - 0s 3ms/step - loss: 0.5427 - accuracy: 0.7355 - val_loss: 0.5521 - val_accuracy: 0.7313\n",
      "Epoch 77/150\n",
      "101/101 [==============================] - 0s 3ms/step - loss: 0.5428 - accuracy: 0.7356 - val_loss: 0.5517 - val_accuracy: 0.7296\n",
      "Epoch 78/150\n",
      "101/101 [==============================] - 0s 3ms/step - loss: 0.5422 - accuracy: 0.7351 - val_loss: 0.5517 - val_accuracy: 0.7306\n",
      "Epoch 79/150\n",
      "101/101 [==============================] - 0s 3ms/step - loss: 0.5422 - accuracy: 0.7355 - val_loss: 0.5524 - val_accuracy: 0.7310\n",
      "Epoch 80/150\n",
      "101/101 [==============================] - 0s 3ms/step - loss: 0.5417 - accuracy: 0.7359 - val_loss: 0.5532 - val_accuracy: 0.7312\n",
      "Epoch 81/150\n",
      "101/101 [==============================] - 0s 3ms/step - loss: 0.5422 - accuracy: 0.7361 - val_loss: 0.5548 - val_accuracy: 0.7306\n",
      "Epoch 82/150\n",
      "101/101 [==============================] - 0s 3ms/step - loss: 0.5424 - accuracy: 0.7358 - val_loss: 0.5531 - val_accuracy: 0.7313\n",
      "Epoch 83/150\n",
      "101/101 [==============================] - 0s 3ms/step - loss: 0.5416 - accuracy: 0.7367 - val_loss: 0.5515 - val_accuracy: 0.7303\n",
      "Epoch 84/150\n",
      "101/101 [==============================] - 0s 3ms/step - loss: 0.5419 - accuracy: 0.7369 - val_loss: 0.5525 - val_accuracy: 0.7292\n",
      "Epoch 85/150\n",
      "101/101 [==============================] - 0s 3ms/step - loss: 0.5410 - accuracy: 0.7370 - val_loss: 0.5542 - val_accuracy: 0.7296\n",
      "Epoch 86/150\n",
      "101/101 [==============================] - 0s 3ms/step - loss: 0.5409 - accuracy: 0.7353 - val_loss: 0.5529 - val_accuracy: 0.7304\n",
      "Epoch 87/150\n",
      "101/101 [==============================] - 0s 4ms/step - loss: 0.5423 - accuracy: 0.7351 - val_loss: 0.5535 - val_accuracy: 0.7300\n",
      "Epoch 88/150\n",
      "101/101 [==============================] - 0s 3ms/step - loss: 0.5413 - accuracy: 0.7365 - val_loss: 0.5544 - val_accuracy: 0.7280\n",
      "Epoch 89/150\n",
      "101/101 [==============================] - 0s 5ms/step - loss: 0.5411 - accuracy: 0.7352 - val_loss: 0.5535 - val_accuracy: 0.7325\n",
      "Epoch 90/150\n",
      "101/101 [==============================] - 0s 3ms/step - loss: 0.5402 - accuracy: 0.7365 - val_loss: 0.5527 - val_accuracy: 0.7296\n",
      "Epoch 91/150\n",
      "101/101 [==============================] - 0s 3ms/step - loss: 0.5410 - accuracy: 0.7353 - val_loss: 0.5522 - val_accuracy: 0.7283\n",
      "Epoch 92/150\n",
      "101/101 [==============================] - 0s 3ms/step - loss: 0.5416 - accuracy: 0.7369 - val_loss: 0.5531 - val_accuracy: 0.7291\n",
      "Epoch 93/150\n",
      "101/101 [==============================] - 0s 3ms/step - loss: 0.5412 - accuracy: 0.7362 - val_loss: 0.5526 - val_accuracy: 0.7303\n",
      "Epoch 94/150\n",
      "101/101 [==============================] - 0s 3ms/step - loss: 0.5411 - accuracy: 0.7353 - val_loss: 0.5530 - val_accuracy: 0.7318\n",
      "Epoch 95/150\n",
      "101/101 [==============================] - 0s 3ms/step - loss: 0.5412 - accuracy: 0.7366 - val_loss: 0.5534 - val_accuracy: 0.7275\n",
      "Epoch 96/150\n",
      "101/101 [==============================] - 0s 3ms/step - loss: 0.5413 - accuracy: 0.7364 - val_loss: 0.5524 - val_accuracy: 0.7285\n",
      "Epoch 97/150\n",
      "101/101 [==============================] - 0s 3ms/step - loss: 0.5407 - accuracy: 0.7352 - val_loss: 0.5539 - val_accuracy: 0.7290\n",
      "Epoch 98/150\n",
      "101/101 [==============================] - 0s 3ms/step - loss: 0.5407 - accuracy: 0.7362 - val_loss: 0.5533 - val_accuracy: 0.7296\n",
      "Epoch 99/150\n",
      "101/101 [==============================] - 0s 4ms/step - loss: 0.5404 - accuracy: 0.7368 - val_loss: 0.5532 - val_accuracy: 0.7294\n",
      "Epoch 100/150\n",
      "101/101 [==============================] - 0s 3ms/step - loss: 0.5407 - accuracy: 0.7365 - val_loss: 0.5537 - val_accuracy: 0.7305\n",
      "Epoch 101/150\n",
      "101/101 [==============================] - 0s 3ms/step - loss: 0.5409 - accuracy: 0.7361 - val_loss: 0.5537 - val_accuracy: 0.7293\n",
      "Epoch 102/150\n",
      "101/101 [==============================] - 0s 3ms/step - loss: 0.5407 - accuracy: 0.7371 - val_loss: 0.5536 - val_accuracy: 0.7301\n",
      "Epoch 103/150\n",
      "101/101 [==============================] - 0s 3ms/step - loss: 0.5404 - accuracy: 0.7365 - val_loss: 0.5535 - val_accuracy: 0.7297\n",
      "Epoch 104/150\n",
      "101/101 [==============================] - 0s 3ms/step - loss: 0.5404 - accuracy: 0.7370 - val_loss: 0.5532 - val_accuracy: 0.7320\n",
      "Epoch 105/150\n",
      "101/101 [==============================] - 0s 3ms/step - loss: 0.5410 - accuracy: 0.7362 - val_loss: 0.5531 - val_accuracy: 0.7317\n",
      "Epoch 106/150\n",
      "101/101 [==============================] - 0s 3ms/step - loss: 0.5408 - accuracy: 0.7363 - val_loss: 0.5534 - val_accuracy: 0.7325\n",
      "Epoch 107/150\n",
      "101/101 [==============================] - 0s 3ms/step - loss: 0.5398 - accuracy: 0.7362 - val_loss: 0.5525 - val_accuracy: 0.7312\n",
      "Epoch 108/150\n",
      "101/101 [==============================] - 0s 3ms/step - loss: 0.5392 - accuracy: 0.7364 - val_loss: 0.5533 - val_accuracy: 0.7318\n",
      "Epoch 109/150\n",
      "101/101 [==============================] - 0s 3ms/step - loss: 0.5393 - accuracy: 0.7355 - val_loss: 0.5533 - val_accuracy: 0.7298\n",
      "Epoch 110/150\n",
      "101/101 [==============================] - 0s 3ms/step - loss: 0.5401 - accuracy: 0.7378 - val_loss: 0.5536 - val_accuracy: 0.7325\n",
      "Epoch 111/150\n",
      "101/101 [==============================] - 0s 4ms/step - loss: 0.5405 - accuracy: 0.7385 - val_loss: 0.5539 - val_accuracy: 0.7317\n",
      "Epoch 112/150\n",
      "101/101 [==============================] - 0s 3ms/step - loss: 0.5403 - accuracy: 0.7360 - val_loss: 0.5544 - val_accuracy: 0.7292\n",
      "Epoch 113/150\n",
      "101/101 [==============================] - 0s 4ms/step - loss: 0.5399 - accuracy: 0.7372 - val_loss: 0.5547 - val_accuracy: 0.7292\n",
      "Epoch 114/150\n",
      "101/101 [==============================] - 0s 3ms/step - loss: 0.5391 - accuracy: 0.7379 - val_loss: 0.5543 - val_accuracy: 0.7311\n"
     ]
    },
    {
     "name": "stdout",
     "output_type": "stream",
     "text": [
      "Epoch 115/150\n",
      "101/101 [==============================] - 0s 3ms/step - loss: 0.5391 - accuracy: 0.7379 - val_loss: 0.5551 - val_accuracy: 0.7306\n",
      "Epoch 116/150\n",
      "101/101 [==============================] - 0s 3ms/step - loss: 0.5400 - accuracy: 0.7362 - val_loss: 0.5549 - val_accuracy: 0.7305\n",
      "Epoch 117/150\n",
      "101/101 [==============================] - 0s 3ms/step - loss: 0.5395 - accuracy: 0.7374 - val_loss: 0.5554 - val_accuracy: 0.7301\n",
      "Epoch 118/150\n",
      "101/101 [==============================] - 0s 3ms/step - loss: 0.5397 - accuracy: 0.7374 - val_loss: 0.5553 - val_accuracy: 0.7322\n",
      "Epoch 119/150\n",
      "101/101 [==============================] - 0s 3ms/step - loss: 0.5404 - accuracy: 0.7362 - val_loss: 0.5548 - val_accuracy: 0.7314\n",
      "Epoch 120/150\n",
      "101/101 [==============================] - 0s 3ms/step - loss: 0.5398 - accuracy: 0.7365 - val_loss: 0.5544 - val_accuracy: 0.7325\n",
      "Epoch 121/150\n",
      "101/101 [==============================] - 0s 4ms/step - loss: 0.5391 - accuracy: 0.7365 - val_loss: 0.5537 - val_accuracy: 0.7305\n",
      "Epoch 122/150\n",
      "101/101 [==============================] - 0s 3ms/step - loss: 0.5398 - accuracy: 0.7370 - val_loss: 0.5557 - val_accuracy: 0.7304\n",
      "Epoch 123/150\n",
      "101/101 [==============================] - 0s 3ms/step - loss: 0.5406 - accuracy: 0.7365 - val_loss: 0.5547 - val_accuracy: 0.7297\n",
      "Epoch 124/150\n",
      "101/101 [==============================] - 0s 3ms/step - loss: 0.5391 - accuracy: 0.7376 - val_loss: 0.5550 - val_accuracy: 0.7296\n",
      "Epoch 125/150\n",
      "101/101 [==============================] - 0s 3ms/step - loss: 0.5392 - accuracy: 0.7383 - val_loss: 0.5553 - val_accuracy: 0.7324\n",
      "Epoch 126/150\n",
      "101/101 [==============================] - 0s 3ms/step - loss: 0.5404 - accuracy: 0.7362 - val_loss: 0.5552 - val_accuracy: 0.7317\n",
      "Epoch 127/150\n",
      "101/101 [==============================] - 0s 3ms/step - loss: 0.5399 - accuracy: 0.7379 - val_loss: 0.5554 - val_accuracy: 0.7320\n",
      "Epoch 128/150\n",
      "101/101 [==============================] - 0s 3ms/step - loss: 0.5381 - accuracy: 0.7359 - val_loss: 0.5553 - val_accuracy: 0.7326\n",
      "Epoch 129/150\n",
      "101/101 [==============================] - 0s 3ms/step - loss: 0.5391 - accuracy: 0.7373 - val_loss: 0.5539 - val_accuracy: 0.7325\n",
      "Epoch 130/150\n",
      "101/101 [==============================] - 0s 3ms/step - loss: 0.5391 - accuracy: 0.7372 - val_loss: 0.5546 - val_accuracy: 0.7321\n",
      "Epoch 131/150\n",
      "101/101 [==============================] - 0s 3ms/step - loss: 0.5384 - accuracy: 0.7369 - val_loss: 0.5562 - val_accuracy: 0.7313\n",
      "Epoch 132/150\n",
      "101/101 [==============================] - 0s 3ms/step - loss: 0.5390 - accuracy: 0.7362 - val_loss: 0.5548 - val_accuracy: 0.7313\n",
      "Epoch 133/150\n",
      "101/101 [==============================] - 0s 3ms/step - loss: 0.5377 - accuracy: 0.7385 - val_loss: 0.5564 - val_accuracy: 0.7318\n",
      "Epoch 134/150\n",
      "101/101 [==============================] - 0s 3ms/step - loss: 0.5392 - accuracy: 0.7374 - val_loss: 0.5553 - val_accuracy: 0.7308\n",
      "Epoch 135/150\n",
      "101/101 [==============================] - 0s 3ms/step - loss: 0.5391 - accuracy: 0.7385 - val_loss: 0.5558 - val_accuracy: 0.7315\n",
      "Epoch 136/150\n",
      "101/101 [==============================] - 0s 3ms/step - loss: 0.5385 - accuracy: 0.7383 - val_loss: 0.5560 - val_accuracy: 0.7303\n",
      "Epoch 137/150\n",
      "101/101 [==============================] - 0s 3ms/step - loss: 0.5389 - accuracy: 0.7370 - val_loss: 0.5561 - val_accuracy: 0.7289\n",
      "Epoch 138/150\n",
      "101/101 [==============================] - 0s 3ms/step - loss: 0.5396 - accuracy: 0.7373 - val_loss: 0.5552 - val_accuracy: 0.7293\n",
      "Epoch 139/150\n",
      "101/101 [==============================] - 0s 3ms/step - loss: 0.5386 - accuracy: 0.7371 - val_loss: 0.5563 - val_accuracy: 0.7280\n",
      "Epoch 140/150\n",
      "101/101 [==============================] - 0s 3ms/step - loss: 0.5385 - accuracy: 0.7372 - val_loss: 0.5570 - val_accuracy: 0.7296\n",
      "Epoch 141/150\n",
      "101/101 [==============================] - 0s 3ms/step - loss: 0.5382 - accuracy: 0.7377 - val_loss: 0.5579 - val_accuracy: 0.7283\n",
      "Epoch 142/150\n",
      "101/101 [==============================] - 0s 3ms/step - loss: 0.5380 - accuracy: 0.7378 - val_loss: 0.5557 - val_accuracy: 0.7301\n",
      "Epoch 143/150\n",
      "101/101 [==============================] - 0s 3ms/step - loss: 0.5384 - accuracy: 0.7378 - val_loss: 0.5555 - val_accuracy: 0.7292\n",
      "Epoch 144/150\n",
      "101/101 [==============================] - 0s 3ms/step - loss: 0.5387 - accuracy: 0.7359 - val_loss: 0.5563 - val_accuracy: 0.7296\n",
      "Epoch 145/150\n",
      "101/101 [==============================] - 0s 3ms/step - loss: 0.5398 - accuracy: 0.7379 - val_loss: 0.5556 - val_accuracy: 0.7326\n",
      "Epoch 146/150\n",
      "101/101 [==============================] - 0s 3ms/step - loss: 0.5375 - accuracy: 0.7384 - val_loss: 0.5560 - val_accuracy: 0.7299\n",
      "Epoch 147/150\n",
      "101/101 [==============================] - 0s 3ms/step - loss: 0.5397 - accuracy: 0.7377 - val_loss: 0.5557 - val_accuracy: 0.7296\n",
      "Epoch 148/150\n",
      "101/101 [==============================] - 0s 4ms/step - loss: 0.5375 - accuracy: 0.7387 - val_loss: 0.5568 - val_accuracy: 0.7300\n",
      "Epoch 149/150\n",
      "101/101 [==============================] - 0s 3ms/step - loss: 0.5382 - accuracy: 0.7376 - val_loss: 0.5558 - val_accuracy: 0.7299\n",
      "Epoch 150/150\n",
      "101/101 [==============================] - 0s 3ms/step - loss: 0.5374 - accuracy: 0.7381 - val_loss: 0.5578 - val_accuracy: 0.7314\n"
     ]
    }
   ],
   "source": [
    "# Train the model\n",
    "fit_model_optimized = nn_optimized.fit(X_train_scaled, y_train, epochs=150, batch_size=256, validation_data=(X_test_scaled, y_test))"
   ]
  },
  {
   "cell_type": "code",
   "execution_count": 15,
   "metadata": {
    "colab": {
     "base_uri": "https://localhost:8080/"
    },
    "id": "qeTE-iEh6XA5",
    "outputId": "3bef9d92-f177-41a4-934c-e1e0d6cd6012"
   },
   "outputs": [
    {
     "name": "stdout",
     "output_type": "stream",
     "text": [
      "268/268 - 0s - loss: 0.5578 - accuracy: 0.7314 - 234ms/epoch - 873us/step\n"
     ]
    },
    {
     "data": {
      "text/plain": [
       "0.7314285635948181"
      ]
     },
     "execution_count": 15,
     "metadata": {},
     "output_type": "execute_result"
    }
   ],
   "source": [
    "# Evaluate the model using the test data\n",
    "model_loss_optimized, model_accuracy_optimized = nn_optimized.evaluate(X_test_scaled, y_test, verbose=2)\n",
    "model_loss_optimized\n",
    "model_accuracy_optimized"
   ]
  },
  {
   "cell_type": "code",
   "execution_count": 16,
   "metadata": {
    "id": "1KnW_JD86XA5"
   },
   "outputs": [
    {
     "name": "stderr",
     "output_type": "stream",
     "text": [
      "C:\\Users\\stara\\anaconda3\\lib\\site-packages\\keras\\src\\engine\\training.py:3000: UserWarning: You are saving your model as an HDF5 file via `model.save()`. This file format is considered legacy. We recommend using instead the native Keras format, e.g. `model.save('my_model.keras')`.\n",
      "  saving_api.save_model(\n"
     ]
    }
   ],
   "source": [
    "# Export our model to HDF5 file\n",
    "model_filename = \"AlphabetSoupCharity_Optimization.h5\"\n",
    "nn_optimized.save(\"AlphabetSoupCharity_Optimization.h5\")"
   ]
  }
 ],
 "metadata": {
  "colab": {
   "provenance": []
  },
  "kernelspec": {
   "display_name": "Python 3 (ipykernel)",
   "language": "python",
   "name": "python3"
  },
  "language_info": {
   "codemirror_mode": {
    "name": "ipython",
    "version": 3
   },
   "file_extension": ".py",
   "mimetype": "text/x-python",
   "name": "python",
   "nbconvert_exporter": "python",
   "pygments_lexer": "ipython3",
   "version": "3.9.13"
  },
  "vscode": {
   "interpreter": {
    "hash": "31f2aee4e71d21fbe5cf8b01ff0e069b9275f58929596ceb00d14d90e3e16cd6"
   }
  }
 },
 "nbformat": 4,
 "nbformat_minor": 1
}
